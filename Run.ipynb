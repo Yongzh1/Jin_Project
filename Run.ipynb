{
 "cells": [
  {
   "cell_type": "code",
   "execution_count": 56,
   "id": "9d9ded16-f409-4008-824e-32633e451abf",
   "metadata": {},
   "outputs": [
    {
     "name": "stdout",
     "output_type": "stream",
     "text": [
      "Hyperparameter Tuning: 100%|███████████████| 200/200 [01:44<00:00,  1.91trial/s]\n",
      "Best parameters: {'learning_rate': 0.08076327150088985, 'feature_fraction': 0.9480456499617467, 'num_leaves': 247, 'lambda_l2': 1.189514052824, 'min_sum_hessian_in_leaf': 22.79359346067791, 'bagging_fraction': 0.7135538943131281}\n",
      "Best parameters saved to Models/params/lgbm_if_fillmiss_False_best_params.json\n",
      "Model re-trained with best parameters.\n",
      "Model saved as lgbm_if_fillmiss_False.joblib\n",
      "F1-score:0.792\n",
      "PR-AUC:0.8136076390965452\n",
      "ROC-AUC:0.8582940868655153\n"
     ]
    }
   ],
   "source": [
    "!python3 main.py lgbm"
   ]
  },
  {
   "cell_type": "code",
   "execution_count": null,
   "id": "f2eb81bf-5a79-4643-9dd3-8bb047d60097",
   "metadata": {},
   "outputs": [],
   "source": [
    "\"\"\"\n",
    "lgbm no_fill\n",
    "\n",
    "F1-score:0.792\n",
    "PR-AUC:0.8136076390965452\n",
    "ROC-AUC:0.8582940868655153\n",
    "\"\"\""
   ]
  },
  {
   "cell_type": "code",
   "execution_count": 57,
   "id": "670028a1-c0e5-42f6-b630-fd49d5226df3",
   "metadata": {},
   "outputs": [
    {
     "name": "stdout",
     "output_type": "stream",
     "text": [
      "Hyperparameter Tuning: 100%|███████████████| 200/200 [01:37<00:00,  2.06trial/s]\n",
      "Best parameters: {'learning_rate': 0.03733158284953017, 'feature_fraction': 0.6298768918801632, 'num_leaves': 557, 'lambda_l2': 5.009169777279831, 'min_sum_hessian_in_leaf': 8.104713486143202, 'bagging_fraction': 0.6100916009749057}\n",
      "Best parameters saved to Models/params/lgbm_if_fillmiss_True_best_params.json\n",
      "Model re-trained with best parameters.\n",
      "Model saved as lgbm_if_fillmiss_True.joblib\n",
      "F1-score:0.7886178861788617\n",
      "PR-AUC:0.8136193965630004\n",
      "ROC-AUC:0.851933251933252\n"
     ]
    }
   ],
   "source": [
    "!python3 main.py lgbm  --if_fill_missing True"
   ]
  },
  {
   "cell_type": "code",
   "execution_count": null,
   "id": "fa880d50-9aa7-4cc3-8572-b47d9bf32182",
   "metadata": {},
   "outputs": [],
   "source": [
    "\"\"\"\n",
    "lgbm fill\n",
    "F1-score:0.7886178861788617\n",
    "PR-AUC:0.8136193965630004\n",
    "ROC-AUC:0.851933251933252\n",
    "\"\"\""
   ]
  },
  {
   "cell_type": "code",
   "execution_count": 58,
   "id": "e7204fb8-1e94-4324-974d-7f074f5c913f",
   "metadata": {},
   "outputs": [
    {
     "name": "stdout",
     "output_type": "stream",
     "text": [
      "Hyperparameter Tuning: 100%|███████████████| 200/200 [01:21<00:00,  2.45trial/s]\n",
      "Best parameters: {'learning_rate': 0.08181967511565706, 'colsample_bytree': 0.9303652916281717, 'gamma': 0.6962061009885391, 'lambda': 5.1563982955179, 'max_depth': 8, 'min_child_weight': 22.210858836291976, 'subsample': 0.5599326836668415}\n",
      "Best parameters saved to Models/params/xgboost_if_fillmiss_False_best_params.json\n",
      "Model re-trained with best parameters.\n",
      "Model saved as xgboost_if_fillmiss_False.joblib\n",
      "F1-score:0.8\n",
      "PR-AUC:0.8212006636143948\n",
      "ROC-AUC:0.8625210768067911\n"
     ]
    }
   ],
   "source": [
    "!python3 main.py xgboost"
   ]
  },
  {
   "cell_type": "code",
   "execution_count": null,
   "id": "d5cf1d58-14d6-46f1-9f6c-84796a1f4487",
   "metadata": {},
   "outputs": [],
   "source": [
    "\"\"\"\n",
    "xgboost no_fill\n",
    "F1-score:0.8\n",
    "PR-AUC:0.8212006636143948\n",
    "ROC-AUC:0.8625210768067911\n",
    "\"\"\""
   ]
  },
  {
   "cell_type": "code",
   "execution_count": 59,
   "id": "14829b0d-906e-43f2-a398-e2f21af649ea",
   "metadata": {},
   "outputs": [
    {
     "name": "stdout",
     "output_type": "stream",
     "text": [
      "Hyperparameter Tuning: 100%|███████████████| 200/200 [01:09<00:00,  2.86trial/s]\n",
      "Best parameters: {'learning_rate': 0.029385458253075224, 'colsample_bytree': 0.9481679092605599, 'gamma': 1.3011793491500927, 'lambda': 0.946534455459234, 'max_depth': 5, 'min_child_weight': 2.6533177341615843, 'subsample': 0.5907177175448987}\n",
      "Best parameters saved to Models/params/xgboost_if_fillmiss_True_best_params.json\n",
      "Model re-trained with best parameters.\n",
      "Model saved as xgboost_if_fillmiss_True.joblib\n",
      "F1-score:0.7861507128309573\n",
      "PR-AUC:0.8117114441210241\n",
      "ROC-AUC:0.8500814000814001\n"
     ]
    }
   ],
   "source": [
    "!python3 main.py xgboost --if_fill_missing True"
   ]
  },
  {
   "cell_type": "code",
   "execution_count": null,
   "id": "63538964-68bb-4249-a0d7-0900474993e8",
   "metadata": {},
   "outputs": [],
   "source": [
    "\"\"\"\n",
    "xgboost fill\n",
    "F1-score:0.7861507128309573\n",
    "PR-AUC:0.8117114441210241\n",
    "ROC-AUC:0.8500814000814001\n",
    "\"\"\""
   ]
  },
  {
   "cell_type": "code",
   "execution_count": null,
   "id": "c7f658fc-aa48-4427-8a18-05cc4eaee78d",
   "metadata": {},
   "outputs": [
    {
     "name": "stdout",
     "output_type": "stream",
     "text": [
      "Hyperparameter Tuning:   0%|                         | 0/200 [00:00<?, ?trial/s]"
     ]
    }
   ],
   "source": [
    "!python3 main.py catboost"
   ]
  },
  {
   "cell_type": "code",
   "execution_count": null,
   "id": "c1c1383a-462c-40fb-a2b9-3f789ed8b972",
   "metadata": {},
   "outputs": [],
   "source": [
    "'''\n",
    "\n",
    "'''"
   ]
  },
  {
   "cell_type": "code",
   "execution_count": 63,
   "id": "cb450f5a-2752-4afb-bcf1-86e6862a4ad6",
   "metadata": {},
   "outputs": [
    {
     "name": "stdout",
     "output_type": "stream",
     "text": [
      "Hyperparameter Tuning: 100%|█████████████| 200/200 [1:10:04<00:00, 21.02s/trial]\n",
      "Best parameters: {'depth': 3, 'learning_rate': 0.016164724336608115, 'random_strength': 55, 'bagging_temperature': 69.1926008172924}\n",
      "Best parameters saved to Models/params/catboost_if_fillmiss_True_best_params.json\n",
      "Model re-trained with best parameters.\n",
      "Model saved as catboost_if_fillmiss_True.joblib\n",
      "F1-score:0.8032786885245902\n",
      "PR-AUC:0.8294689424606263\n",
      "ROC-AUC:0.8572068143496714\n"
     ]
    }
   ],
   "source": [
    "!python3 main.py catboost --if_fill_missing True"
   ]
  },
  {
   "cell_type": "code",
   "execution_count": null,
   "id": "d929055a-a6aa-4b0c-abc0-ff74db353d27",
   "metadata": {},
   "outputs": [],
   "source": [
    "\"\"\"\n",
    "F1-score:0.8032786885245902\n",
    "PR-AUC:0.8294689424606263\n",
    "ROC-AUC:0.8572068143496714\n",
    "\"\"\""
   ]
  },
  {
   "cell_type": "code",
   "execution_count": 64,
   "id": "7b865fbf-4c69-4682-8766-9392308f078a",
   "metadata": {},
   "outputs": [
    {
     "name": "stdout",
     "output_type": "stream",
     "text": [
      "^Cperparameter Tuning:   0%|                         | 0/200 [00:00<?, ?trial/s]\n"
     ]
    }
   ],
   "source": [
    "!python3 main.py svm --if_fill_missing True"
   ]
  },
  {
   "cell_type": "code",
   "execution_count": null,
   "id": "60dcc0a2-a7b2-4da4-ba2a-3d419c897f10",
   "metadata": {
    "scrolled": true
   },
   "outputs": [],
   "source": [
    "!python3 main.py lr --if_fill_missing True"
   ]
  },
  {
   "cell_type": "code",
   "execution_count": null,
   "id": "9535a7fc-af11-4674-aeb3-3df2e14a4fda",
   "metadata": {},
   "outputs": [],
   "source": [
    "\"\"\"\n",
    "F1-score:0.021818181818181823\n",
    "PR-AUC:0.36676600947577565\n",
    "ROC-AUC:0.5050322693179835\n",
    "\"\"\""
   ]
  }
 ],
 "metadata": {
  "kernelspec": {
   "display_name": "Python 3 (ipykernel)",
   "language": "python",
   "name": "python3"
  },
  "language_info": {
   "codemirror_mode": {
    "name": "ipython",
    "version": 3
   },
   "file_extension": ".py",
   "mimetype": "text/x-python",
   "name": "python",
   "nbconvert_exporter": "python",
   "pygments_lexer": "ipython3",
   "version": "3.12.3"
  }
 },
 "nbformat": 4,
 "nbformat_minor": 5
}
